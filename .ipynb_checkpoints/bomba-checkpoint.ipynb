{
 "cells": [
  {
   "cell_type": "markdown",
   "metadata": {},
   "source": [
    "# Obtenção de curvas de bombas e ponto de operação utilizando Python"
   ]
  },
  {
   "cell_type": "markdown",
   "metadata": {},
   "source": [
    "Passo 1 - Importar algumas bibliotecas - Pandas, numpy e matplotlib"
   ]
  },
  {
   "cell_type": "code",
   "execution_count": 16,
   "metadata": {},
   "outputs": [],
   "source": [
    "import pandas as pd\n",
    "import numpy as np\n",
    "import matplotlib.pyplot as plt"
   ]
  },
  {
   "cell_type": "markdown",
   "metadata": {},
   "source": [
    "Passo 2 - Ler o arquivo contendo a curva da bomba, em formato excel"
   ]
  },
  {
   "cell_type": "code",
   "execution_count": 17,
   "metadata": {},
   "outputs": [],
   "source": [
    "df = pd.read_excel('pump.xlsx')"
   ]
  },
  {
   "cell_type": "markdown",
   "metadata": {},
   "source": [
    "Passo 3 - Como a vazão não está no SI, convém-se converter a mesma e criar uma coluna com a unidade adequada"
   ]
  },
  {
   "cell_type": "code",
   "execution_count": 18,
   "metadata": {},
   "outputs": [],
   "source": [
    "df['Flow (m³/s)'] = df['Flow (l/s)'].apply(lambda x: 0.001*x)"
   ]
  },
  {
   "cell_type": "markdown",
   "metadata": {},
   "source": [
    "Passo 4 - Remover a coluna sem a unidade no SI"
   ]
  },
  {
   "cell_type": "code",
   "execution_count": 19,
   "metadata": {},
   "outputs": [],
   "source": [
    "df.drop('Flow (l/s)',inplace=True,axis=1)"
   ]
  },
  {
   "cell_type": "code",
   "execution_count": 22,
   "metadata": {},
   "outputs": [
    {
     "data": {
      "text/html": [
       "<div>\n",
       "<style scoped>\n",
       "    .dataframe tbody tr th:only-of-type {\n",
       "        vertical-align: middle;\n",
       "    }\n",
       "\n",
       "    .dataframe tbody tr th {\n",
       "        vertical-align: top;\n",
       "    }\n",
       "\n",
       "    .dataframe thead th {\n",
       "        text-align: right;\n",
       "    }\n",
       "</style>\n",
       "<table border=\"1\" class=\"dataframe\">\n",
       "  <thead>\n",
       "    <tr style=\"text-align: right;\">\n",
       "      <th></th>\n",
       "      <th>Pump Head (m)</th>\n",
       "      <th>Flow (m³/s)</th>\n",
       "    </tr>\n",
       "  </thead>\n",
       "  <tbody>\n",
       "    <tr>\n",
       "      <th>0</th>\n",
       "      <td>53.5</td>\n",
       "      <td>0.00</td>\n",
       "    </tr>\n",
       "    <tr>\n",
       "      <th>1</th>\n",
       "      <td>53.0</td>\n",
       "      <td>0.02</td>\n",
       "    </tr>\n",
       "    <tr>\n",
       "      <th>2</th>\n",
       "      <td>52.5</td>\n",
       "      <td>0.04</td>\n",
       "    </tr>\n",
       "    <tr>\n",
       "      <th>3</th>\n",
       "      <td>51.5</td>\n",
       "      <td>0.06</td>\n",
       "    </tr>\n",
       "    <tr>\n",
       "      <th>4</th>\n",
       "      <td>50.0</td>\n",
       "      <td>0.08</td>\n",
       "    </tr>\n",
       "    <tr>\n",
       "      <th>5</th>\n",
       "      <td>48.0</td>\n",
       "      <td>0.10</td>\n",
       "    </tr>\n",
       "    <tr>\n",
       "      <th>6</th>\n",
       "      <td>45.5</td>\n",
       "      <td>0.12</td>\n",
       "    </tr>\n",
       "    <tr>\n",
       "      <th>7</th>\n",
       "      <td>42.0</td>\n",
       "      <td>0.14</td>\n",
       "    </tr>\n",
       "    <tr>\n",
       "      <th>8</th>\n",
       "      <td>37.0</td>\n",
       "      <td>0.16</td>\n",
       "    </tr>\n",
       "  </tbody>\n",
       "</table>\n",
       "</div>"
      ],
      "text/plain": [
       "   Pump Head (m)  Flow (m³/s)\n",
       "0           53.5         0.00\n",
       "1           53.0         0.02\n",
       "2           52.5         0.04\n",
       "3           51.5         0.06\n",
       "4           50.0         0.08\n",
       "5           48.0         0.10\n",
       "6           45.5         0.12\n",
       "7           42.0         0.14\n",
       "8           37.0         0.16"
      ]
     },
     "execution_count": 22,
     "metadata": {},
     "output_type": "execute_result"
    }
   ],
   "source": [
    "df"
   ]
  },
  {
   "cell_type": "markdown",
   "metadata": {},
   "source": [
    "Passo 5 - Converter os dados em formato de array, para plotá-los"
   ]
  },
  {
   "cell_type": "code",
   "execution_count": 23,
   "metadata": {},
   "outputs": [],
   "source": [
    "x = df['Flow (m³/s)'].values"
   ]
  },
  {
   "cell_type": "code",
   "execution_count": 24,
   "metadata": {},
   "outputs": [],
   "source": [
    "y = df['Pump Head (m)'].values"
   ]
  },
  {
   "cell_type": "markdown",
   "metadata": {},
   "source": [
    "Passo 6 - Realizar uma interpolação polinomial do segundo grau para esses pontos"
   ]
  },
  {
   "cell_type": "code",
   "execution_count": 44,
   "metadata": {},
   "outputs": [
    {
     "name": "stdout",
     "output_type": "stream",
     "text": [
      "[-748.10606061   22.61363636   53.08484848]\n"
     ]
    }
   ],
   "source": [
    "p = np.polyfit(x,y,2)"
   ]
  },
  {
   "cell_type": "markdown",
   "metadata": {},
   "source": [
    "Passo 7 - Plotar os pontos e a curva obtida a partir do polinômio interpolador"
   ]
  },
  {
   "cell_type": "code",
   "execution_count": 201,
   "metadata": {},
   "outputs": [
    {
     "data": {
      "text/plain": [
       "[<matplotlib.lines.Line2D at 0x2255845e748>]"
      ]
     },
     "execution_count": 201,
     "metadata": {},
     "output_type": "execute_result"
    },
    {
     "data": {
      "image/png": "[encoded data removed]",
      "text/plain": [
       "<Figure size 864x576 with 1 Axes>"
      ]
     },
     "metadata": {
      "needs_background": "light"
     },
     "output_type": "display_data"
    }
   ],
   "source": [
    "plt.figure(figsize=(12,8))\n",
    "plt.grid(True)\n",
    "plt.ylabel('Head (m)',size=14)\n",
    "plt.xlabel('Vazão (m³/s)',size=14)\n",
    "plt.title('Curva da bomba',size=17)\n",
    "plt.scatter(x,y)\n",
    "plt.plot(x,p[0]*x**2 + p[1]*x + p[2])"
   ]
  },
  {
   "cell_type": "markdown",
   "metadata": {},
   "source": [
    "# Criando a curva de operação - equação de Bernoulli com fator de atrito"
   ]
  },
  {
   "cell_type": "markdown",
   "metadata": {},
   "source": [
    "Passo 1 - Chamando as bibliotecas de resolução de equações não lineares e a biblioteca math"
   ]
  },
  {
   "cell_type": "code",
   "execution_count": 28,
   "metadata": {},
   "outputs": [],
   "source": [
    "from scipy import optimize\n",
    "from math import pi,log,sqrt"
   ]
  },
  {
   "cell_type": "markdown",
   "metadata": {},
   "source": [
    "Passo 2 - Criando a função para o fator de atrito"
   ]
  },
  {
   "cell_type": "code",
   "execution_count": 12,
   "metadata": {},
   "outputs": [],
   "source": [
    "def fator_atrito(f,ee,Re):\n",
    "    y = 1/sqrt(f) + 2*log(((ee/3.7) + 2.51/(Re*sqrt(f))),10)\n",
    "    return y"
   ]
  },
  {
   "cell_type": "markdown",
   "metadata": {},
   "source": [
    "Passo 3 - Criando a função solver, contendo a equação de Bernoulli e repetindo várias vezes para obter o head em função da vazão. Em regime turbulento, adota-se o modelo de Colebrook para o cálculo do fator de atrito, que recai numa equação não linear, cuja raiz é obtida pelo método de Newton-Raphson."
   ]
  },
  {
   "cell_type": "code",
   "execution_count": 200,
   "metadata": {},
   "outputs": [],
   "source": [
    "def solve(visc,rho,L,z,D,Pe,Ps,ep,p):\n",
    "    v = np.arange(0.01,15,0.01)\n",
    "    h = np.empty(len(v))\n",
    "    Q = np.empty(len(v))\n",
    "    g = np.empty(len(v))\n",
    "    k = np.zeros([len(v),3])\n",
    "    for i in range(len(v)):\n",
    "        Re = rho*v[i]*D/visc\n",
    "        ed = ep/D\n",
    "        if Re>4000:\n",
    "            fator = optimize.newton(fator_atrito,64/Re,args=(ed,Re))\n",
    "        else:\n",
    "            fator = 64/Re\n",
    "        h[i] = (Ps - Pe)/rho + 9.81*z + fator*L*(v[i]**2)/(2*D)\n",
    "        Q[i] = v[i]*(pi*D**2)/4\n",
    "        g[i] = p[0]*Q[i]**2 + p[1]*Q[i] + p[2]\n",
    "        k[i,1] = abs(h[i]-g[i])\n",
    "        k[i,0] = Q[i]\n",
    "        k[i,2] = h[i]\n",
    "    return Q,h,k"
   ]
  },
  {
   "cell_type": "code",
   "execution_count": 170,
   "metadata": {},
   "outputs": [],
   "source": [
    "a = solve(1e-4,1e3,2,1.5,0.1,1e5,1.2e5,1e-5,p)"
   ]
  },
  {
   "cell_type": "code",
   "execution_count": 197,
   "metadata": {},
   "outputs": [],
   "source": [
    "def operation(a):\n",
    "    z = np.min(a[2][:,1])\n",
    "    zz = np.where(a[2][:,1] == z)\n",
    "    xx = a[2][zz][0][0]\n",
    "    yy = a[2][zz][0][2]\n",
    "    return xx,yy"
   ]
  },
  {
   "cell_type": "code",
   "execution_count": 202,
   "metadata": {},
   "outputs": [
    {
     "data": {
      "text/plain": [
       "<matplotlib.legend.Legend at 0x225555646d8>"
      ]
     },
     "execution_count": 202,
     "metadata": {},
     "output_type": "execute_result"
    },
    {
     "data": {
      "image/png": "[encoded data removed]",
      "text/plain": [
       "<Figure size 864x576 with 1 Axes>"
      ]
     },
     "metadata": {
      "needs_background": "light"
     },
     "output_type": "display_data"
    }
   ],
   "source": [
    "plt.figure(figsize=(12,8))\n",
    "plt.grid(True)\n",
    "plt.ylabel('Head (m)',size=14)\n",
    "plt.xlabel('Vazão (m³/s)',size=14)\n",
    "plt.title('Perfil de curva da bomba com ponto operacional',size=17)\n",
    "plt.scatter(x,y)\n",
    "g = p[0]*x**2 + p[1]*x + p[2]\n",
    "plt.plot(x,g)\n",
    "plt.plot(a[0],a[1],'r')\n",
    "plt.scatter(operation(a)[0],operation(a)[1],c='y',alpha=1,s=100)\n",
    "plt.legend(['Curva da bomba','Curva de operação','Pontos da curva da bomba','Ponto de operação'])"
   ]
  },
  {
   "cell_type": "markdown",
   "metadata": {},
   "source": [
    "Conforme a curva, pode-se perceber que o ponto de operação da bomba se dá com uma vazão entre 75 e 100 L/s. Vazões acima do ponto de operação podem levar à cavitação da bomba"
   ]
  },
  {
   "cell_type": "markdown",
   "metadata": {},
   "source": [
    "Definindo precisamente esse ponto de operação, em m³/s"
   ]
  },
  {
   "cell_type": "code",
   "execution_count": 199,
   "metadata": {},
   "outputs": [
    {
     "data": {
      "text/plain": [
       "0.08647233779005906"
      ]
     },
     "execution_count": 199,
     "metadata": {},
     "output_type": "execute_result"
    }
   ],
   "source": [
    "operation(a)[0]"
   ]
  },
  {
   "cell_type": "markdown",
   "metadata": {},
   "source": [
    "Ou seja, o ponto de operação dessa bomba, nessas condições é de 86.47 L/s"
   ]
  }
 ],
 "metadata": {
  "kernelspec": {
   "display_name": "Python 3",
   "language": "python",
   "name": "python3"
  },
  "language_info": {
   "codemirror_mode": {
    "name": "ipython",
    "version": 3
   },
   "file_extension": ".py",
   "mimetype": "text/x-python",
   "name": "python",
   "nbconvert_exporter": "python",
   "pygments_lexer": "ipython3",
   "version": "3.7.3"
  }
 },
 "nbformat": 4,
 "nbformat_minor": 2
}
